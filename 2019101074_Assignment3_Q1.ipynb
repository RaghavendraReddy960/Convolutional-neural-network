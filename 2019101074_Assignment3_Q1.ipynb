{
 "cells": [
  {
   "cell_type": "markdown",
   "id": "5b7c2e76",
   "metadata": {},
   "source": [
    "# Assignment 3\n",
    "\n",
    "## Instructions\n",
    "- Run this notebook on ```Google Colab(preferable)```\n",
    "- Write your code and analysis in the indicated cells.\n",
    "- Ensure that this notebook runs without errors when the cells are run in sequence.\n",
    "- Do not attempt to change the contents of other cells. \n",
    "\n",
    "## Packages Used\n",
    "- Keras [link](https://keras.io/guides/)\n",
    "\n",
    "## Submission\n",
    "- Rename the notebook to `<roll_number>_Assignment3_Q1.ipynb`."
   ]
  },
  {
   "cell_type": "markdown",
   "id": "81a04618",
   "metadata": {},
   "source": [
    "## Question 1"
   ]
  },
  {
   "cell_type": "markdown",
   "id": "b7be834e",
   "metadata": {},
   "source": [
    "This question is based on seminal work by Zhang et al. The paper is titled 'Understanding deep learning requires rethinking generalization'. The paper talks about how the traditional methods fail to explain generalization of neural network. They show that a sufficiently parameterized network can easily fit a random labeling of the training data. This fitting cannot be curbed by explicit regularization.\n"
   ]
  },
  {
   "cell_type": "markdown",
   "id": "c1082657",
   "metadata": {},
   "source": [
    "## Q) 1.1 \n",
    "Lets take a hello world dataset for ML algorithm the MNIST!\n",
    "This question requires you to train a convolutional neural network.\n",
    "Architecture: 4 layers of convolution with 64 filters in each layer. Keep activation map size same using padding."
   ]
  },
  {
   "cell_type": "code",
   "execution_count": 1,
   "id": "d93211d0",
   "metadata": {},
   "outputs": [],
   "source": [
    "from tensorflow import keras   # feel free to use MNIST data from other sources \n",
    "import numpy as np\n",
    "from tensorflow.keras import layers\n",
    "from tensorflow.keras.utils import to_categorical\n",
    "from keras.models import Sequential\n",
    "from keras.layers import Dense, Activation, Flatten, Dropout\n",
    "import matplotlib.pyplot as plt"
   ]
  },
  {
   "cell_type": "code",
   "execution_count": 2,
   "id": "c4301e9e",
   "metadata": {},
   "outputs": [],
   "source": [
    "(x_train, y_train), (x_test, y_test) = keras.datasets.mnist.load_data()"
   ]
  },
  {
   "cell_type": "code",
   "execution_count": 3,
   "id": "8f8db95a",
   "metadata": {},
   "outputs": [
    {
     "data": {
      "text/plain": [
       "(60000, 784)"
      ]
     },
     "execution_count": 3,
     "metadata": {},
     "output_type": "execute_result"
    }
   ],
   "source": [
    "x_train = x_train / 255.0\n",
    "x_test = x_test / 255.0\n",
    "#images should be of 28x28 adjusting the x\n",
    "pixels = 784\n",
    "classess = 10 #from 0 to 9 numbers so classess is 10\n",
    "x_test = x_test.reshape(x_test.shape[0],-1)\n",
    "x_train = x_train.reshape(x_train.shape[0],-1)\n",
    "x_train.shape\n"
   ]
  },
  {
   "cell_type": "markdown",
   "id": "c2f5bafd",
   "metadata": {},
   "source": [
    "#### One-hot-encode your labels here"
   ]
  },
  {
   "cell_type": "code",
   "execution_count": 4,
   "id": "e06fbbd9",
   "metadata": {},
   "outputs": [
    {
     "data": {
      "text/plain": [
       "array([5, 0, 4, ..., 5, 6, 8], dtype=uint8)"
      ]
     },
     "execution_count": 4,
     "metadata": {},
     "output_type": "execute_result"
    }
   ],
   "source": [
    "#for 1.2 Question.\n",
    "\n",
    "y_train_1 = y_train_20 =y_train_40 = y_train_60 = y_train_80 = y_train_100 = y_train\n",
    "\n",
    "y_train_100\n"
   ]
  },
  {
   "cell_type": "code",
   "execution_count": 5,
   "id": "eec40cb1",
   "metadata": {},
   "outputs": [
    {
     "name": "stdout",
     "output_type": "stream",
     "text": [
      "[5 0 4 ... 5 6 8]\n",
      "[5 0 4 ... 5 6 8]\n"
     ]
    }
   ],
   "source": [
    "print(y_train_20)\n",
    "print(y_train_40)"
   ]
  },
  {
   "cell_type": "code",
   "execution_count": 6,
   "id": "73520c0c",
   "metadata": {},
   "outputs": [],
   "source": [
    "#using to_categorical fucntion\n",
    "#here 10 is no of classess\n",
    "y_train = to_categorical(y_train, 10)\n",
    "y_test = to_categorical(y_test, 10)"
   ]
  },
  {
   "cell_type": "markdown",
   "id": "38b8a6fa",
   "metadata": {},
   "source": [
    "#### Define the model mentioned above\n",
    "    1) Print the number of trainable parameters\n",
    "     Use sgd optimizer with softmax at last layer \n",
    "     Train the model until convergence (use test data only for model selection and early stopping!)\n",
    "    2) Report the train and test accuracy\n",
    "    3) Plot the train and test accuracy and loss throughout the training"
   ]
  },
  {
   "cell_type": "code",
   "execution_count": 7,
   "id": "novel-gambling",
   "metadata": {},
   "outputs": [
    {
     "name": "stdout",
     "output_type": "stream",
     "text": [
      "Model: \"sequential\"\n",
      "_________________________________________________________________\n",
      " Layer (type)                Output Shape              Param #   \n",
      "=================================================================\n",
      " dense (Dense)               (None, 128)               100480    \n",
      "                                                                 \n",
      " dense_1 (Dense)             (None, 128)               16512     \n",
      "                                                                 \n",
      " dropout (Dropout)           (None, 128)               0         \n",
      "                                                                 \n",
      " dense_2 (Dense)             (None, 10)                1290      \n",
      "                                                                 \n",
      "=================================================================\n",
      "Total params: 118,282\n",
      "Trainable params: 118,282\n",
      "Non-trainable params: 0\n",
      "_________________________________________________________________\n"
     ]
    }
   ],
   "source": [
    "#creating the model here\n",
    "model = Sequential()\n",
    "\n",
    "model.add(Dense(128, input_shape=(784,), activation='relu'))#input layer\n",
    "model.add(Dense(128 , activation='relu')) #hidden layer \n",
    "model.add(Dropout(0.25))\n",
    "model.add(Dense(10 , activation='softmax')) #ouput layer\n",
    "\n",
    "model.compile(loss='categorical_crossentropy', optimizer='SGD', metrics=['accuracy'])\n",
    "model.summary()\n",
    "\n"
   ]
  },
  {
   "cell_type": "code",
   "execution_count": 8,
   "id": "4d64b0fb",
   "metadata": {},
   "outputs": [
    {
     "name": "stdout",
     "output_type": "stream",
     "text": [
      "Epoch 1/20\n",
      "216/216 [==============================] - 1s 3ms/step - loss: 1.8546 - accuracy: 0.4620 - val_loss: 1.2284 - val_accuracy: 0.7848\n",
      "Epoch 2/20\n",
      "216/216 [==============================] - 0s 2ms/step - loss: 1.0258 - accuracy: 0.7327 - val_loss: 0.6568 - val_accuracy: 0.8617\n",
      "Epoch 3/20\n",
      "216/216 [==============================] - 1s 3ms/step - loss: 0.7142 - accuracy: 0.7992 - val_loss: 0.4790 - val_accuracy: 0.8892\n",
      "Epoch 4/20\n",
      "216/216 [==============================] - 1s 2ms/step - loss: 0.5894 - accuracy: 0.8306 - val_loss: 0.3952 - val_accuracy: 0.9023\n",
      "Epoch 5/20\n",
      "216/216 [==============================] - 0s 2ms/step - loss: 0.5168 - accuracy: 0.8525 - val_loss: 0.3483 - val_accuracy: 0.9107\n",
      "Epoch 6/20\n",
      "216/216 [==============================] - 0s 2ms/step - loss: 0.4732 - accuracy: 0.8645 - val_loss: 0.3178 - val_accuracy: 0.9142\n",
      "Epoch 7/20\n",
      "216/216 [==============================] - 0s 2ms/step - loss: 0.4374 - accuracy: 0.8740 - val_loss: 0.2963 - val_accuracy: 0.9185\n",
      "Epoch 8/20\n",
      "216/216 [==============================] - 1s 2ms/step - loss: 0.4140 - accuracy: 0.8778 - val_loss: 0.2801 - val_accuracy: 0.9230\n",
      "Epoch 9/20\n",
      "216/216 [==============================] - 1s 2ms/step - loss: 0.3923 - accuracy: 0.8856 - val_loss: 0.2668 - val_accuracy: 0.9263\n",
      "Epoch 10/20\n",
      "216/216 [==============================] - 1s 2ms/step - loss: 0.3740 - accuracy: 0.8934 - val_loss: 0.2561 - val_accuracy: 0.9300\n",
      "Epoch 11/20\n",
      "216/216 [==============================] - 1s 2ms/step - loss: 0.3611 - accuracy: 0.8944 - val_loss: 0.2466 - val_accuracy: 0.9323\n",
      "Epoch 12/20\n",
      "216/216 [==============================] - 1s 2ms/step - loss: 0.3471 - accuracy: 0.8998 - val_loss: 0.2380 - val_accuracy: 0.9333\n",
      "Epoch 13/20\n",
      "216/216 [==============================] - 1s 2ms/step - loss: 0.3354 - accuracy: 0.9026 - val_loss: 0.2310 - val_accuracy: 0.9343\n",
      "Epoch 14/20\n",
      "216/216 [==============================] - 1s 2ms/step - loss: 0.3262 - accuracy: 0.9045 - val_loss: 0.2231 - val_accuracy: 0.9375\n",
      "Epoch 15/20\n",
      "216/216 [==============================] - 1s 2ms/step - loss: 0.3185 - accuracy: 0.9079 - val_loss: 0.2181 - val_accuracy: 0.9368\n",
      "Epoch 16/20\n",
      "216/216 [==============================] - 1s 3ms/step - loss: 0.3108 - accuracy: 0.9107 - val_loss: 0.2116 - val_accuracy: 0.9397\n",
      "Epoch 17/20\n",
      "216/216 [==============================] - 1s 3ms/step - loss: 0.2997 - accuracy: 0.9131 - val_loss: 0.2065 - val_accuracy: 0.9405\n",
      "Epoch 18/20\n",
      "216/216 [==============================] - 0s 2ms/step - loss: 0.2936 - accuracy: 0.9147 - val_loss: 0.2017 - val_accuracy: 0.9425\n",
      "Epoch 19/20\n",
      "216/216 [==============================] - 0s 2ms/step - loss: 0.2861 - accuracy: 0.9171 - val_loss: 0.1969 - val_accuracy: 0.9450\n",
      "Epoch 20/20\n",
      "216/216 [==============================] - 1s 2ms/step - loss: 0.2803 - accuracy: 0.9190 - val_loss: 0.1915 - val_accuracy: 0.9467\n"
     ]
    }
   ],
   "source": [
    "#training the model \n",
    "training_model = model.fit(x_train, y_train, validation_split=0.1, epochs=20, batch_size=250, verbose=1, shuffle=1)\n"
   ]
  },
  {
   "cell_type": "code",
   "execution_count": 9,
   "id": "045e8867",
   "metadata": {},
   "outputs": [
    {
     "data": {
      "text/plain": [
       "Text(0.5, 0, 'epoch')"
      ]
     },
     "execution_count": 9,
     "metadata": {},
     "output_type": "execute_result"
    },
    {
     "data": {
      "image/png": "[encoded data removed]",
      "text/plain": [
       "<Figure size 432x288 with 1 Axes>"
      ]
     },
     "metadata": {
      "needs_background": "light"
     },
     "output_type": "display_data"
    }
   ],
   "source": [
    "#plotting loss of train and test\n",
    "plt.plot(training_model.history['loss'])\n",
    "plt.plot(training_model.history['val_loss'])\n",
    "plt.legend(['train_loss','test_loss'])\n",
    "plt.title('train,test loss')\n",
    "plt.xlabel('epoch')\n",
    "\n"
   ]
  },
  {
   "cell_type": "code",
   "execution_count": 10,
   "id": "17693143",
   "metadata": {},
   "outputs": [
    {
     "data": {
      "text/plain": [
       "Text(0.5, 0, 'epoch')"
      ]
     },
     "execution_count": 10,
     "metadata": {},
     "output_type": "execute_result"
    },
    {
     "data": {
      "image/png": "[encoded data removed]",
      "text/plain": [
       "<Figure size 432x288 with 1 Axes>"
      ]
     },
     "metadata": {
      "needs_background": "light"
     },
     "output_type": "display_data"
    }
   ],
   "source": [
    "#plotting accuracy of train and test\n",
    "plt.plot(training_model.history['accuracy'])\n",
    "plt.plot(training_model.history['val_accuracy'])\n",
    "plt.legend(['train_accu','test_accu'])\n",
    "plt.title('train,test accuracry')\n",
    "plt.xlabel('epoch')"
   ]
  },
  {
   "cell_type": "markdown",
   "id": "003189e1",
   "metadata": {},
   "source": [
    "## Q) 1.2\n",
    "Now lets start adding label noise to the dataset\n"
   ]
  },
  {
   "cell_type": "markdown",
   "id": "fc09bd79",
   "metadata": {},
   "source": [
    "1) Randomize 20% of train labels and repeat Q1 (1,2 & 3)\n",
    "\n",
    "2) Randomize 40% of train labels and repeat Q1 (3)\n",
    "\n",
    "3) Randomize 60% of train labels and repeat Q1 (3)\n",
    "\n",
    "4) Randomize 80% of train labels and repeat Q1 (3)\n",
    "\n",
    "5) Randomize 100% of train labels and repeat Q1 (3)\n"
   ]
  },
  {
   "cell_type": "markdown",
   "id": "4204eb72",
   "metadata": {},
   "source": [
    "## 20% random\n"
   ]
  },
  {
   "cell_type": "code",
   "execution_count": 11,
   "id": "fedddfba",
   "metadata": {},
   "outputs": [
    {
     "data": {
      "text/plain": [
       "array([1, 6, 9, ..., 5, 6, 8], dtype=uint8)"
      ]
     },
     "execution_count": 11,
     "metadata": {},
     "output_type": "execute_result"
    }
   ],
   "source": [
    "\n",
    "twenty_percent = int(0.2*len(y_train_1))\n",
    "y_train_20[:twenty_percent] = np.random.randint(0,10, twenty_percent)\n",
    "y_train_20"
   ]
  },
  {
   "cell_type": "code",
   "execution_count": 12,
   "id": "c2adde44",
   "metadata": {},
   "outputs": [
    {
     "data": {
      "text/plain": [
       "array([[0., 1., 0., ..., 0., 0., 0.],\n",
       "       [0., 0., 0., ..., 0., 0., 0.],\n",
       "       [0., 0., 0., ..., 0., 0., 1.],\n",
       "       ...,\n",
       "       [0., 0., 0., ..., 0., 0., 0.],\n",
       "       [0., 0., 0., ..., 0., 0., 0.],\n",
       "       [0., 0., 0., ..., 0., 1., 0.]], dtype=float32)"
      ]
     },
     "execution_count": 12,
     "metadata": {},
     "output_type": "execute_result"
    }
   ],
   "source": [
    "y_train_20 = to_categorical(y_train_20,10)\n",
    "y_train_20"
   ]
  },
  {
   "cell_type": "code",
   "execution_count": 13,
   "id": "4bb845f2",
   "metadata": {},
   "outputs": [
    {
     "name": "stdout",
     "output_type": "stream",
     "text": [
      "Model: \"sequential_1\"\n",
      "_________________________________________________________________\n",
      " Layer (type)                Output Shape              Param #   \n",
      "=================================================================\n",
      " dense_3 (Dense)             (None, 128)               100480    \n",
      "                                                                 \n",
      " dense_4 (Dense)             (None, 128)               16512     \n",
      "                                                                 \n",
      " dropout_1 (Dropout)         (None, 128)               0         \n",
      "                                                                 \n",
      " dense_5 (Dense)             (None, 10)                1290      \n",
      "                                                                 \n",
      "=================================================================\n",
      "Total params: 118,282\n",
      "Trainable params: 118,282\n",
      "Non-trainable params: 0\n",
      "_________________________________________________________________\n"
     ]
    }
   ],
   "source": [
    "model_20 = Sequential()\n",
    "\n",
    "model_20.add(Dense(128, input_shape=(784,), activation='relu'))#input layer\n",
    "model_20.add(Dense(128 , activation='relu')) #hidden layer \n",
    "model_20.add(Dropout(0.25))\n",
    "model_20.add(Dense(10 , activation='softmax')) #ouput layer\n",
    "\n",
    "model_20.compile(loss='categorical_crossentropy', optimizer='SGD', metrics=['accuracy'])\n",
    "model_20.summary()"
   ]
  },
  {
   "cell_type": "code",
   "execution_count": 14,
   "id": "02b4b1d5",
   "metadata": {},
   "outputs": [
    {
     "name": "stdout",
     "output_type": "stream",
     "text": [
      "Epoch 1/20\n",
      "216/216 [==============================] - 1s 3ms/step - loss: 2.0453 - accuracy: 0.3444 - val_loss: 1.4833 - val_accuracy: 0.7490\n",
      "Epoch 2/20\n",
      "216/216 [==============================] - 0s 2ms/step - loss: 1.6130 - accuracy: 0.5642 - val_loss: 0.9733 - val_accuracy: 0.8395\n",
      "Epoch 3/20\n",
      "216/216 [==============================] - 0s 2ms/step - loss: 1.4582 - accuracy: 0.6190 - val_loss: 0.7991 - val_accuracy: 0.8722\n",
      "Epoch 4/20\n",
      "216/216 [==============================] - 1s 2ms/step - loss: 1.3925 - accuracy: 0.6528 - val_loss: 0.7194 - val_accuracy: 0.8905\n",
      "Epoch 5/20\n",
      "216/216 [==============================] - 1s 2ms/step - loss: 1.3557 - accuracy: 0.6698 - val_loss: 0.6699 - val_accuracy: 0.9022\n",
      "Epoch 6/20\n",
      "216/216 [==============================] - 0s 2ms/step - loss: 1.3265 - accuracy: 0.6827 - val_loss: 0.6351 - val_accuracy: 0.9082\n",
      "Epoch 7/20\n",
      "216/216 [==============================] - 0s 2ms/step - loss: 1.3088 - accuracy: 0.6905 - val_loss: 0.6131 - val_accuracy: 0.9130\n",
      "Epoch 8/20\n",
      "216/216 [==============================] - 0s 2ms/step - loss: 1.2906 - accuracy: 0.6975 - val_loss: 0.5937 - val_accuracy: 0.9182\n",
      "Epoch 9/20\n",
      "216/216 [==============================] - 1s 2ms/step - loss: 1.2769 - accuracy: 0.7023 - val_loss: 0.5834 - val_accuracy: 0.9202\n",
      "Epoch 10/20\n",
      "216/216 [==============================] - 1s 2ms/step - loss: 1.2659 - accuracy: 0.7076 - val_loss: 0.5632 - val_accuracy: 0.9220\n",
      "Epoch 11/20\n",
      "216/216 [==============================] - 1s 2ms/step - loss: 1.2588 - accuracy: 0.7108 - val_loss: 0.5564 - val_accuracy: 0.9245\n",
      "Epoch 12/20\n",
      "216/216 [==============================] - 1s 2ms/step - loss: 1.2466 - accuracy: 0.7145 - val_loss: 0.5392 - val_accuracy: 0.9263\n",
      "Epoch 13/20\n",
      "216/216 [==============================] - 0s 2ms/step - loss: 1.2388 - accuracy: 0.7171 - val_loss: 0.5347 - val_accuracy: 0.9275\n",
      "Epoch 14/20\n",
      "216/216 [==============================] - 1s 2ms/step - loss: 1.2329 - accuracy: 0.7190 - val_loss: 0.5282 - val_accuracy: 0.9307\n",
      "Epoch 15/20\n",
      "216/216 [==============================] - 1s 3ms/step - loss: 1.2258 - accuracy: 0.7206 - val_loss: 0.5209 - val_accuracy: 0.9322\n",
      "Epoch 16/20\n",
      "216/216 [==============================] - 1s 3ms/step - loss: 1.2183 - accuracy: 0.7239 - val_loss: 0.5112 - val_accuracy: 0.9337\n",
      "Epoch 17/20\n",
      "216/216 [==============================] - 0s 2ms/step - loss: 1.2145 - accuracy: 0.7255 - val_loss: 0.5047 - val_accuracy: 0.9348\n",
      "Epoch 18/20\n",
      "216/216 [==============================] - 0s 2ms/step - loss: 1.2093 - accuracy: 0.7269 - val_loss: 0.5005 - val_accuracy: 0.9358\n",
      "Epoch 19/20\n",
      "216/216 [==============================] - 0s 2ms/step - loss: 1.2029 - accuracy: 0.7281 - val_loss: 0.4948 - val_accuracy: 0.9370\n",
      "Epoch 20/20\n",
      "216/216 [==============================] - 1s 3ms/step - loss: 1.1994 - accuracy: 0.7296 - val_loss: 0.4941 - val_accuracy: 0.9380\n"
     ]
    }
   ],
   "source": [
    "training_model_20 = model_20.fit(x_train, y_train_20, validation_split=0.1, epochs=20, batch_size=250, verbose=1, shuffle=1)"
   ]
  },
  {
   "cell_type": "code",
   "execution_count": 15,
   "id": "5cdda03f",
   "metadata": {},
   "outputs": [
    {
     "data": {
      "text/plain": [
       "Text(0.5, 0, 'epoch')"
      ]
     },
     "execution_count": 15,
     "metadata": {},
     "output_type": "execute_result"
    },
    {
     "data": {
      "image/png": "[encoded data removed]",
      "text/plain": [
       "<Figure size 432x288 with 1 Axes>"
      ]
     },
     "metadata": {
      "needs_background": "light"
     },
     "output_type": "display_data"
    }
   ],
   "source": [
    "#plotting loss of train and test\n",
    "plt.plot(training_model_20.history['loss'])\n",
    "plt.plot(training_model_20.history['val_loss'])\n",
    "plt.legend(['train_loss','test_loss'])\n",
    "plt.title('train,test loss')\n",
    "plt.xlabel('epoch')"
   ]
  },
  {
   "cell_type": "code",
   "execution_count": 16,
   "id": "141eb315",
   "metadata": {},
   "outputs": [
    {
     "data": {
      "text/plain": [
       "Text(0.5, 0, 'epoch')"
      ]
     },
     "execution_count": 16,
     "metadata": {},
     "output_type": "execute_result"
    },
    {
     "data": {
      "image/png": "[encoded data removed]",
      "text/plain": [
       "<Figure size 432x288 with 1 Axes>"
      ]
     },
     "metadata": {
      "needs_background": "light"
     },
     "output_type": "display_data"
    }
   ],
   "source": [
    "#plotting accuracy of train and test\n",
    "plt.plot(training_model_20.history['accuracy'])\n",
    "plt.plot(training_model_20.history['val_accuracy'])\n",
    "plt.legend(['train_accu','test_accu'])\n",
    "plt.title('train,test accuracry')\n",
    "plt.xlabel('epoch')"
   ]
  },
  {
   "cell_type": "markdown",
   "id": "3849a31d",
   "metadata": {},
   "source": [
    "## 40% Random"
   ]
  },
  {
   "cell_type": "code",
   "execution_count": 17,
   "id": "b869661e",
   "metadata": {},
   "outputs": [
    {
     "data": {
      "text/plain": [
       "array([1, 0, 9, ..., 5, 6, 8], dtype=uint8)"
      ]
     },
     "execution_count": 17,
     "metadata": {},
     "output_type": "execute_result"
    }
   ],
   "source": [
    "fourty_percent = int(0.4*len(y_train_1))\n",
    "\n",
    "y_train_40[:fourty_percent] = np.random.randint(0,10, fourty_percent)\n",
    "y_train_40"
   ]
  },
  {
   "cell_type": "code",
   "execution_count": 18,
   "id": "86a0ffaa",
   "metadata": {},
   "outputs": [],
   "source": [
    "y_train_40 = to_categorical(y_train_40,10)"
   ]
  },
  {
   "cell_type": "code",
   "execution_count": 19,
   "id": "c5bddf46",
   "metadata": {},
   "outputs": [
    {
     "name": "stdout",
     "output_type": "stream",
     "text": [
      "Model: \"sequential_2\"\n",
      "_________________________________________________________________\n",
      " Layer (type)                Output Shape              Param #   \n",
      "=================================================================\n",
      " dense_6 (Dense)             (None, 128)               100480    \n",
      "                                                                 \n",
      " dense_7 (Dense)             (None, 128)               16512     \n",
      "                                                                 \n",
      " dropout_2 (Dropout)         (None, 128)               0         \n",
      "                                                                 \n",
      " dense_8 (Dense)             (None, 10)                1290      \n",
      "                                                                 \n",
      "=================================================================\n",
      "Total params: 118,282\n",
      "Trainable params: 118,282\n",
      "Non-trainable params: 0\n",
      "_________________________________________________________________\n"
     ]
    }
   ],
   "source": [
    "model_40 = Sequential()\n",
    "\n",
    "model_40.add(Dense(128, input_shape=(784,), activation='relu'))#input layer\n",
    "model_40.add(Dense(128 , activation='relu')) #hidden layer \n",
    "model_40.add(Dropout(0.25))\n",
    "model_40.add(Dense(10 , activation='softmax')) #ouput layer\n",
    "\n",
    "model_40.compile(loss='categorical_crossentropy', optimizer='SGD', metrics=['accuracy'])\n",
    "model_40.summary()"
   ]
  },
  {
   "cell_type": "code",
   "execution_count": 20,
   "id": "bb7479b6",
   "metadata": {},
   "outputs": [
    {
     "name": "stdout",
     "output_type": "stream",
     "text": [
      "Epoch 1/20\n",
      "216/216 [==============================] - 1s 3ms/step - loss: 2.2465 - accuracy: 0.2000 - val_loss: 1.9337 - val_accuracy: 0.6183\n",
      "Epoch 2/20\n",
      "216/216 [==============================] - 1s 2ms/step - loss: 2.0447 - accuracy: 0.3807 - val_loss: 1.4906 - val_accuracy: 0.7933\n",
      "Epoch 3/20\n",
      "216/216 [==============================] - 1s 2ms/step - loss: 1.9225 - accuracy: 0.4451 - val_loss: 1.2359 - val_accuracy: 0.8417\n",
      "Epoch 4/20\n",
      "216/216 [==============================] - 1s 2ms/step - loss: 1.8700 - accuracy: 0.4710 - val_loss: 1.1209 - val_accuracy: 0.8647\n",
      "Epoch 5/20\n",
      "216/216 [==============================] - 1s 2ms/step - loss: 1.8437 - accuracy: 0.4867 - val_loss: 1.0638 - val_accuracy: 0.8785\n",
      "Epoch 6/20\n",
      "216/216 [==============================] - 1s 2ms/step - loss: 1.8253 - accuracy: 0.5002 - val_loss: 1.0237 - val_accuracy: 0.8880\n",
      "Epoch 7/20\n",
      "216/216 [==============================] - 1s 2ms/step - loss: 1.8107 - accuracy: 0.5083 - val_loss: 0.9981 - val_accuracy: 0.8968\n",
      "Epoch 8/20\n",
      "216/216 [==============================] - 1s 2ms/step - loss: 1.7977 - accuracy: 0.5141 - val_loss: 0.9666 - val_accuracy: 0.9008\n",
      "Epoch 9/20\n",
      "216/216 [==============================] - 0s 2ms/step - loss: 1.7885 - accuracy: 0.5192 - val_loss: 0.9499 - val_accuracy: 0.9047\n",
      "Epoch 10/20\n",
      "216/216 [==============================] - 1s 2ms/step - loss: 1.7788 - accuracy: 0.5223 - val_loss: 0.9402 - val_accuracy: 0.9090\n",
      "Epoch 11/20\n",
      "216/216 [==============================] - 1s 2ms/step - loss: 1.7708 - accuracy: 0.5251 - val_loss: 0.9234 - val_accuracy: 0.9147\n",
      "Epoch 12/20\n",
      "216/216 [==============================] - 1s 2ms/step - loss: 1.7664 - accuracy: 0.5283 - val_loss: 0.9185 - val_accuracy: 0.9163\n",
      "Epoch 13/20\n",
      "216/216 [==============================] - 0s 2ms/step - loss: 1.7590 - accuracy: 0.5326 - val_loss: 0.8952 - val_accuracy: 0.9198\n",
      "Epoch 14/20\n",
      "216/216 [==============================] - 1s 3ms/step - loss: 1.7522 - accuracy: 0.5341 - val_loss: 0.8804 - val_accuracy: 0.9210\n",
      "Epoch 15/20\n",
      "216/216 [==============================] - 0s 2ms/step - loss: 1.7482 - accuracy: 0.5350 - val_loss: 0.8773 - val_accuracy: 0.9213\n",
      "Epoch 16/20\n",
      "216/216 [==============================] - 0s 2ms/step - loss: 1.7427 - accuracy: 0.5379 - val_loss: 0.8720 - val_accuracy: 0.9252\n",
      "Epoch 17/20\n",
      "216/216 [==============================] - 1s 2ms/step - loss: 1.7407 - accuracy: 0.5381 - val_loss: 0.8668 - val_accuracy: 0.9267\n",
      "Epoch 18/20\n",
      "216/216 [==============================] - 0s 2ms/step - loss: 1.7359 - accuracy: 0.5406 - val_loss: 0.8609 - val_accuracy: 0.9265\n",
      "Epoch 19/20\n",
      "216/216 [==============================] - 1s 3ms/step - loss: 1.7320 - accuracy: 0.5418 - val_loss: 0.8466 - val_accuracy: 0.9293\n",
      "Epoch 20/20\n",
      "216/216 [==============================] - 1s 3ms/step - loss: 1.7278 - accuracy: 0.5421 - val_loss: 0.8331 - val_accuracy: 0.9295\n"
     ]
    }
   ],
   "source": [
    "training_model_40 = model_40.fit(x_train, y_train_40, validation_split=0.1, epochs=20, batch_size=250, verbose=1, shuffle=1)"
   ]
  },
  {
   "cell_type": "code",
   "execution_count": 21,
   "id": "4ffeadcf",
   "metadata": {},
   "outputs": [
    {
     "data": {
      "text/plain": [
       "Text(0.5, 0, 'epoch')"
      ]
     },
     "execution_count": 21,
     "metadata": {},
     "output_type": "execute_result"
    },
    {
     "data": {
      "image/png": "[encoded data removed]",
      "text/plain": [
       "<Figure size 432x288 with 1 Axes>"
      ]
     },
     "metadata": {
      "needs_background": "light"
     },
     "output_type": "display_data"
    }
   ],
   "source": [
    "plt.plot(training_model_40.history['loss'])\n",
    "plt.plot(training_model_40.history['val_loss'])\n",
    "plt.legend(['train_loss','test_loss'])\n",
    "plt.title('train,test loss')\n",
    "plt.xlabel('epoch')"
   ]
  },
  {
   "cell_type": "code",
   "execution_count": 22,
   "id": "a373b15e",
   "metadata": {},
   "outputs": [
    {
     "data": {
      "text/plain": [
       "Text(0.5, 0, 'epoch')"
      ]
     },
     "execution_count": 22,
     "metadata": {},
     "output_type": "execute_result"
    },
    {
     "data": {
      "image/png": "[encoded data removed]",
      "text/plain": [
       "<Figure size 432x288 with 1 Axes>"
      ]
     },
     "metadata": {
      "needs_background": "light"
     },
     "output_type": "display_data"
    }
   ],
   "source": [
    "plt.plot(training_model_40.history['accuracy'])\n",
    "plt.plot(training_model_40.history['val_accuracy'])\n",
    "plt.legend(['train_accu','test_accu'])\n",
    "plt.title('train,test accuracry')\n",
    "plt.xlabel('epoch')"
   ]
  },
  {
   "cell_type": "markdown",
   "id": "7f81c6e8",
   "metadata": {},
   "source": [
    "## 60% random"
   ]
  },
  {
   "cell_type": "code",
   "execution_count": 23,
   "id": "7180ba5e",
   "metadata": {},
   "outputs": [],
   "source": [
    "sixty_percent = int(0.6*len(y_train_1))\n",
    "\n",
    "y_train_60[:sixty_percent] = np.random.randint(0,10, sixty_percent)\n",
    "\n",
    "y_train_60 = to_categorical(y_train_60,10)"
   ]
  },
  {
   "cell_type": "code",
   "execution_count": 24,
   "id": "a970d7a1",
   "metadata": {},
   "outputs": [
    {
     "name": "stdout",
     "output_type": "stream",
     "text": [
      "Model: \"sequential_3\"\n",
      "_________________________________________________________________\n",
      " Layer (type)                Output Shape              Param #   \n",
      "=================================================================\n",
      " dense_9 (Dense)             (None, 128)               100480    \n",
      "                                                                 \n",
      " dense_10 (Dense)            (None, 128)               16512     \n",
      "                                                                 \n",
      " dropout_3 (Dropout)         (None, 128)               0         \n",
      "                                                                 \n",
      " dense_11 (Dense)            (None, 10)                1290      \n",
      "                                                                 \n",
      "=================================================================\n",
      "Total params: 118,282\n",
      "Trainable params: 118,282\n",
      "Non-trainable params: 0\n",
      "_________________________________________________________________\n"
     ]
    }
   ],
   "source": [
    "model_60 = Sequential()\n",
    "\n",
    "model_60.add(Dense(128, input_shape=(784,), activation='relu'))#input layer\n",
    "model_60.add(Dense(128 , activation='relu')) #hidden layer \n",
    "model_60.add(Dropout(0.25))\n",
    "model_60.add(Dense(10 , activation='softmax')) #ouput layer\n",
    "\n",
    "model_60.compile(loss='categorical_crossentropy', optimizer='SGD', metrics=['accuracy'])\n",
    "model_60.summary()"
   ]
  },
  {
   "cell_type": "code",
   "execution_count": 25,
   "id": "bf038379",
   "metadata": {},
   "outputs": [
    {
     "name": "stdout",
     "output_type": "stream",
     "text": [
      "Epoch 1/20\n",
      "216/216 [==============================] - 1s 3ms/step - loss: 2.2914 - accuracy: 0.1477 - val_loss: 2.0671 - val_accuracy: 0.5463\n",
      "Epoch 2/20\n",
      "216/216 [==============================] - 0s 2ms/step - loss: 2.2243 - accuracy: 0.2342 - val_loss: 1.8595 - val_accuracy: 0.7125\n",
      "Epoch 3/20\n",
      "216/216 [==============================] - 1s 3ms/step - loss: 2.1872 - accuracy: 0.2736 - val_loss: 1.7033 - val_accuracy: 0.7742\n",
      "Epoch 4/20\n",
      "216/216 [==============================] - 1s 3ms/step - loss: 2.1647 - accuracy: 0.2917 - val_loss: 1.5988 - val_accuracy: 0.8102\n",
      "Epoch 5/20\n",
      "216/216 [==============================] - 1s 2ms/step - loss: 2.1511 - accuracy: 0.3061 - val_loss: 1.5358 - val_accuracy: 0.8350\n",
      "Epoch 6/20\n",
      "216/216 [==============================] - 1s 3ms/step - loss: 2.1419 - accuracy: 0.3156 - val_loss: 1.4942 - val_accuracy: 0.8502\n",
      "Epoch 7/20\n",
      "216/216 [==============================] - 1s 3ms/step - loss: 2.1333 - accuracy: 0.3216 - val_loss: 1.4597 - val_accuracy: 0.8577\n",
      "Epoch 8/20\n",
      "216/216 [==============================] - 0s 2ms/step - loss: 2.1258 - accuracy: 0.3289 - val_loss: 1.4295 - val_accuracy: 0.8705\n",
      "Epoch 9/20\n",
      "216/216 [==============================] - 1s 2ms/step - loss: 2.1209 - accuracy: 0.3330 - val_loss: 1.4066 - val_accuracy: 0.8788\n",
      "Epoch 10/20\n",
      "216/216 [==============================] - 1s 2ms/step - loss: 2.1161 - accuracy: 0.3372 - val_loss: 1.3922 - val_accuracy: 0.8843\n",
      "Epoch 11/20\n",
      "216/216 [==============================] - 1s 2ms/step - loss: 2.1121 - accuracy: 0.3402 - val_loss: 1.3751 - val_accuracy: 0.8893\n",
      "Epoch 12/20\n",
      "216/216 [==============================] - 1s 2ms/step - loss: 2.1097 - accuracy: 0.3431 - val_loss: 1.3624 - val_accuracy: 0.8960\n",
      "Epoch 13/20\n",
      "216/216 [==============================] - 1s 3ms/step - loss: 2.1063 - accuracy: 0.3461 - val_loss: 1.3532 - val_accuracy: 0.8985\n",
      "Epoch 14/20\n",
      "216/216 [==============================] - 1s 3ms/step - loss: 2.1029 - accuracy: 0.3463 - val_loss: 1.3401 - val_accuracy: 0.9007\n",
      "Epoch 15/20\n",
      "216/216 [==============================] - 1s 3ms/step - loss: 2.0977 - accuracy: 0.3493 - val_loss: 1.3284 - val_accuracy: 0.9030\n",
      "Epoch 16/20\n",
      "216/216 [==============================] - 1s 3ms/step - loss: 2.0958 - accuracy: 0.3508 - val_loss: 1.3158 - val_accuracy: 0.9047\n",
      "Epoch 17/20\n",
      "216/216 [==============================] - 1s 3ms/step - loss: 2.0938 - accuracy: 0.3523 - val_loss: 1.3107 - val_accuracy: 0.9090\n",
      "Epoch 18/20\n",
      "216/216 [==============================] - 1s 3ms/step - loss: 2.0902 - accuracy: 0.3531 - val_loss: 1.3018 - val_accuracy: 0.9103\n",
      "Epoch 19/20\n",
      "216/216 [==============================] - 1s 3ms/step - loss: 2.0882 - accuracy: 0.3541 - val_loss: 1.2879 - val_accuracy: 0.9103\n",
      "Epoch 20/20\n",
      "216/216 [==============================] - 1s 3ms/step - loss: 2.0872 - accuracy: 0.3543 - val_loss: 1.2852 - val_accuracy: 0.9117\n"
     ]
    }
   ],
   "source": [
    "training_model_60 = model_60.fit(x_train, y_train_60, validation_split=0.1, epochs=20, batch_size=250, verbose=1, shuffle=1)"
   ]
  },
  {
   "cell_type": "code",
   "execution_count": 26,
   "id": "85805be2",
   "metadata": {},
   "outputs": [
    {
     "data": {
      "text/plain": [
       "Text(0.5, 0, 'epoch')"
      ]
     },
     "execution_count": 26,
     "metadata": {},
     "output_type": "execute_result"
    },
    {
     "data": {
      "image/png": "[encoded data removed]",
      "text/plain": [
       "<Figure size 432x288 with 1 Axes>"
      ]
     },
     "metadata": {
      "needs_background": "light"
     },
     "output_type": "display_data"
    }
   ],
   "source": [
    "plt.plot(training_model_60.history['loss'])\n",
    "plt.plot(training_model_60.history['val_loss'])\n",
    "plt.legend(['train_loss','test_loss'])\n",
    "plt.title('train,test loss')\n",
    "plt.xlabel('epoch')"
   ]
  },
  {
   "cell_type": "code",
   "execution_count": 27,
   "id": "b569309e",
   "metadata": {},
   "outputs": [
    {
     "data": {
      "text/plain": [
       "Text(0.5, 0, 'epoch')"
      ]
     },
     "execution_count": 27,
     "metadata": {},
     "output_type": "execute_result"
    },
    {
     "data": {
      "image/png": "[encoded data removed]",
      "text/plain": [
       "<Figure size 432x288 with 1 Axes>"
      ]
     },
     "metadata": {
      "needs_background": "light"
     },
     "output_type": "display_data"
    }
   ],
   "source": [
    "plt.plot(training_model_60.history['accuracy'])\n",
    "plt.plot(training_model_60.history['val_accuracy'])\n",
    "plt.legend(['train_accu','test_accu'])\n",
    "plt.title('train,test accuracry')\n",
    "plt.xlabel('epoch')"
   ]
  },
  {
   "cell_type": "markdown",
   "id": "f9d4a965",
   "metadata": {},
   "source": [
    "## 80% random"
   ]
  },
  {
   "cell_type": "code",
   "execution_count": 28,
   "id": "747bc2e5",
   "metadata": {},
   "outputs": [],
   "source": [
    "eighty_percent = int(0.8*len(y_train_1))\n",
    "\n",
    "y_train_80[:eighty_percent] = np.random.randint(0,10, eighty_percent)\n",
    "\n",
    "y_train_80 = to_categorical(y_train_80,10)"
   ]
  },
  {
   "cell_type": "code",
   "execution_count": 29,
   "id": "271278bd",
   "metadata": {},
   "outputs": [
    {
     "name": "stdout",
     "output_type": "stream",
     "text": [
      "Model: \"sequential_4\"\n",
      "_________________________________________________________________\n",
      " Layer (type)                Output Shape              Param #   \n",
      "=================================================================\n",
      " dense_12 (Dense)            (None, 128)               100480    \n",
      "                                                                 \n",
      " dense_13 (Dense)            (None, 128)               16512     \n",
      "                                                                 \n",
      " dropout_4 (Dropout)         (None, 128)               0         \n",
      "                                                                 \n",
      " dense_14 (Dense)            (None, 10)                1290      \n",
      "                                                                 \n",
      "=================================================================\n",
      "Total params: 118,282\n",
      "Trainable params: 118,282\n",
      "Non-trainable params: 0\n",
      "_________________________________________________________________\n"
     ]
    }
   ],
   "source": [
    "model_80 = Sequential()\n",
    "\n",
    "model_80.add(Dense(128, input_shape=(784,), activation='relu'))#input layer\n",
    "model_80.add(Dense(128 , activation='relu')) #hidden layer \n",
    "model_80.add(Dropout(0.25))\n",
    "model_80.add(Dense(10 , activation='softmax')) #ouput layer\n",
    "\n",
    "model_80.compile(loss='categorical_crossentropy', optimizer='SGD', metrics=['accuracy'])\n",
    "model_80.summary()"
   ]
  },
  {
   "cell_type": "code",
   "execution_count": 30,
   "id": "6de107b9",
   "metadata": {},
   "outputs": [
    {
     "name": "stdout",
     "output_type": "stream",
     "text": [
      "Epoch 1/20\n",
      "216/216 [==============================] - 1s 3ms/step - loss: 2.3214 - accuracy: 0.1076 - val_loss: 2.2206 - val_accuracy: 0.2573\n",
      "Epoch 2/20\n",
      "216/216 [==============================] - 1s 2ms/step - loss: 2.3071 - accuracy: 0.1169 - val_loss: 2.1805 - val_accuracy: 0.3715\n",
      "Epoch 3/20\n",
      "216/216 [==============================] - 1s 2ms/step - loss: 2.3004 - accuracy: 0.1266 - val_loss: 2.1524 - val_accuracy: 0.4560\n",
      "Epoch 4/20\n",
      "216/216 [==============================] - 1s 3ms/step - loss: 2.2961 - accuracy: 0.1351 - val_loss: 2.1298 - val_accuracy: 0.5193\n",
      "Epoch 5/20\n",
      "216/216 [==============================] - 1s 2ms/step - loss: 2.2941 - accuracy: 0.1374 - val_loss: 2.1093 - val_accuracy: 0.5748\n",
      "Epoch 6/20\n",
      "216/216 [==============================] - 0s 2ms/step - loss: 2.2917 - accuracy: 0.1459 - val_loss: 2.0933 - val_accuracy: 0.6125\n",
      "Epoch 7/20\n",
      "216/216 [==============================] - 1s 2ms/step - loss: 2.2902 - accuracy: 0.1500 - val_loss: 2.0774 - val_accuracy: 0.6423\n",
      "Epoch 8/20\n",
      "216/216 [==============================] - 1s 2ms/step - loss: 2.2885 - accuracy: 0.1524 - val_loss: 2.0629 - val_accuracy: 0.6680\n",
      "Epoch 9/20\n",
      "216/216 [==============================] - 1s 2ms/step - loss: 2.2873 - accuracy: 0.1548 - val_loss: 2.0479 - val_accuracy: 0.6902\n",
      "Epoch 10/20\n",
      "216/216 [==============================] - 1s 2ms/step - loss: 2.2851 - accuracy: 0.1585 - val_loss: 2.0343 - val_accuracy: 0.7010\n",
      "Epoch 11/20\n",
      "216/216 [==============================] - 1s 2ms/step - loss: 2.2840 - accuracy: 0.1584 - val_loss: 2.0229 - val_accuracy: 0.7168\n",
      "Epoch 12/20\n",
      "216/216 [==============================] - 1s 2ms/step - loss: 2.2832 - accuracy: 0.1606 - val_loss: 2.0130 - val_accuracy: 0.7368\n",
      "Epoch 13/20\n",
      "216/216 [==============================] - 1s 3ms/step - loss: 2.2823 - accuracy: 0.1631 - val_loss: 2.0037 - val_accuracy: 0.7448\n",
      "Epoch 14/20\n",
      "216/216 [==============================] - 1s 2ms/step - loss: 2.2808 - accuracy: 0.1642 - val_loss: 1.9935 - val_accuracy: 0.7527\n",
      "Epoch 15/20\n",
      "216/216 [==============================] - 1s 3ms/step - loss: 2.2793 - accuracy: 0.1673 - val_loss: 1.9837 - val_accuracy: 0.7657\n",
      "Epoch 16/20\n",
      "216/216 [==============================] - 1s 3ms/step - loss: 2.2789 - accuracy: 0.1688 - val_loss: 1.9783 - val_accuracy: 0.7663\n",
      "Epoch 17/20\n",
      "216/216 [==============================] - 1s 3ms/step - loss: 2.2779 - accuracy: 0.1690 - val_loss: 1.9681 - val_accuracy: 0.7753\n",
      "Epoch 18/20\n",
      "216/216 [==============================] - 1s 3ms/step - loss: 2.2763 - accuracy: 0.1726 - val_loss: 1.9583 - val_accuracy: 0.7858\n",
      "Epoch 19/20\n",
      "216/216 [==============================] - 1s 2ms/step - loss: 2.2764 - accuracy: 0.1714 - val_loss: 1.9543 - val_accuracy: 0.7850\n",
      "Epoch 20/20\n",
      "216/216 [==============================] - 1s 2ms/step - loss: 2.2753 - accuracy: 0.1714 - val_loss: 1.9476 - val_accuracy: 0.7932\n"
     ]
    }
   ],
   "source": [
    "training_model_80 = model_80.fit(x_train, y_train_80, validation_split=0.1, epochs=20, batch_size=250, verbose=1, shuffle=1)"
   ]
  },
  {
   "cell_type": "code",
   "execution_count": 31,
   "id": "8db9bc53",
   "metadata": {},
   "outputs": [
    {
     "data": {
      "text/plain": [
       "Text(0.5, 0, 'epoch')"
      ]
     },
     "execution_count": 31,
     "metadata": {},
     "output_type": "execute_result"
    },
    {
     "data": {
      "image/png": "[encoded data removed]",
      "text/plain": [
       "<Figure size 432x288 with 1 Axes>"
      ]
     },
     "metadata": {
      "needs_background": "light"
     },
     "output_type": "display_data"
    }
   ],
   "source": [
    "plt.plot(training_model_80.history['loss'])\n",
    "plt.plot(training_model_80.history['val_loss'])\n",
    "plt.legend(['train_loss','test_loss'])\n",
    "plt.title('train,test loss')\n",
    "plt.xlabel('epoch')"
   ]
  },
  {
   "cell_type": "code",
   "execution_count": 32,
   "id": "b1b679dd",
   "metadata": {},
   "outputs": [
    {
     "data": {
      "text/plain": [
       "Text(0.5, 0, 'epoch')"
      ]
     },
     "execution_count": 32,
     "metadata": {},
     "output_type": "execute_result"
    },
    {
     "data": {
      "image/png": "[encoded data removed]",
      "text/plain": [
       "<Figure size 432x288 with 1 Axes>"
      ]
     },
     "metadata": {
      "needs_background": "light"
     },
     "output_type": "display_data"
    }
   ],
   "source": [
    "plt.plot(training_model_80.history['accuracy'])\n",
    "plt.plot(training_model_80.history['val_accuracy'])\n",
    "plt.legend(['train_accu','test_accu'])\n",
    "plt.title('train,test accuracry')\n",
    "plt.xlabel('epoch')"
   ]
  },
  {
   "cell_type": "markdown",
   "id": "7ac9dac3",
   "metadata": {},
   "source": [
    "## 100% random"
   ]
  },
  {
   "cell_type": "code",
   "execution_count": 33,
   "id": "18393692",
   "metadata": {},
   "outputs": [],
   "source": [
    "Hundred_percent = int(len(y_train_1))\n",
    "\n",
    "y_train_100[:Hundred_percent] = np.random.randint(0,10, Hundred_percent)\n",
    "\n",
    "y_train_100 = to_categorical(y_train_100,10)"
   ]
  },
  {
   "cell_type": "code",
   "execution_count": 34,
   "id": "7fb7699b",
   "metadata": {},
   "outputs": [
    {
     "name": "stdout",
     "output_type": "stream",
     "text": [
      "Model: \"sequential_5\"\n",
      "_________________________________________________________________\n",
      " Layer (type)                Output Shape              Param #   \n",
      "=================================================================\n",
      " dense_15 (Dense)            (None, 128)               100480    \n",
      "                                                                 \n",
      " dense_16 (Dense)            (None, 128)               16512     \n",
      "                                                                 \n",
      " dropout_5 (Dropout)         (None, 128)               0         \n",
      "                                                                 \n",
      " dense_17 (Dense)            (None, 10)                1290      \n",
      "                                                                 \n",
      "=================================================================\n",
      "Total params: 118,282\n",
      "Trainable params: 118,282\n",
      "Non-trainable params: 0\n",
      "_________________________________________________________________\n"
     ]
    }
   ],
   "source": [
    "model_100 = Sequential()\n",
    "\n",
    "model_100.add(Dense(128, input_shape=(784,), activation='relu'))#input layer\n",
    "model_100.add(Dense(128 , activation='relu')) #hidden layer \n",
    "model_100.add(Dropout(0.25))\n",
    "model_100.add(Dense(10 , activation='softmax')) #ouput layer\n",
    "\n",
    "model_100.compile(loss='categorical_crossentropy', optimizer='SGD', metrics=['accuracy'])\n",
    "model_100.summary()"
   ]
  },
  {
   "cell_type": "code",
   "execution_count": 35,
   "id": "0fc6ece1",
   "metadata": {},
   "outputs": [
    {
     "name": "stdout",
     "output_type": "stream",
     "text": [
      "Epoch 1/20\n",
      "216/216 [==============================] - 1s 4ms/step - loss: 2.3276 - accuracy: 0.1008 - val_loss: 2.3112 - val_accuracy: 0.1013\n",
      "Epoch 2/20\n",
      "216/216 [==============================] - 1s 2ms/step - loss: 2.3157 - accuracy: 0.1014 - val_loss: 2.3084 - val_accuracy: 0.1018\n",
      "Epoch 3/20\n",
      "216/216 [==============================] - 1s 2ms/step - loss: 2.3115 - accuracy: 0.1009 - val_loss: 2.3074 - val_accuracy: 0.1002\n",
      "Epoch 4/20\n",
      "216/216 [==============================] - 0s 2ms/step - loss: 2.3089 - accuracy: 0.1014 - val_loss: 2.3065 - val_accuracy: 0.1035\n",
      "Epoch 5/20\n",
      "216/216 [==============================] - 1s 2ms/step - loss: 2.3070 - accuracy: 0.1033 - val_loss: 2.3059 - val_accuracy: 0.1048\n",
      "Epoch 6/20\n",
      "216/216 [==============================] - 0s 2ms/step - loss: 2.3058 - accuracy: 0.1040 - val_loss: 2.3056 - val_accuracy: 0.1063\n",
      "Epoch 7/20\n",
      "216/216 [==============================] - 0s 2ms/step - loss: 2.3051 - accuracy: 0.1034 - val_loss: 2.3053 - val_accuracy: 0.1062\n",
      "Epoch 8/20\n",
      "216/216 [==============================] - 0s 2ms/step - loss: 2.3039 - accuracy: 0.1071 - val_loss: 2.3052 - val_accuracy: 0.1045\n",
      "Epoch 9/20\n",
      "216/216 [==============================] - 1s 2ms/step - loss: 2.3035 - accuracy: 0.1067 - val_loss: 2.3050 - val_accuracy: 0.1015\n",
      "Epoch 10/20\n",
      "216/216 [==============================] - 1s 3ms/step - loss: 2.3025 - accuracy: 0.1068 - val_loss: 2.3048 - val_accuracy: 0.1003\n",
      "Epoch 11/20\n",
      "216/216 [==============================] - 0s 2ms/step - loss: 2.3022 - accuracy: 0.1077 - val_loss: 2.3048 - val_accuracy: 0.1002\n",
      "Epoch 12/20\n",
      "216/216 [==============================] - 1s 2ms/step - loss: 2.3016 - accuracy: 0.1102 - val_loss: 2.3049 - val_accuracy: 0.0997\n",
      "Epoch 13/20\n",
      "216/216 [==============================] - 1s 3ms/step - loss: 2.3013 - accuracy: 0.1098 - val_loss: 2.3048 - val_accuracy: 0.1013\n",
      "Epoch 14/20\n",
      "216/216 [==============================] - 1s 2ms/step - loss: 2.3009 - accuracy: 0.1116 - val_loss: 2.3046 - val_accuracy: 0.0977\n",
      "Epoch 15/20\n",
      "216/216 [==============================] - 1s 3ms/step - loss: 2.3010 - accuracy: 0.1093 - val_loss: 2.3045 - val_accuracy: 0.1003\n",
      "Epoch 16/20\n",
      "216/216 [==============================] - 1s 2ms/step - loss: 2.3005 - accuracy: 0.1108 - val_loss: 2.3045 - val_accuracy: 0.1003\n",
      "Epoch 17/20\n",
      "216/216 [==============================] - 1s 3ms/step - loss: 2.3000 - accuracy: 0.1111 - val_loss: 2.3046 - val_accuracy: 0.0998\n",
      "Epoch 18/20\n",
      "216/216 [==============================] - 1s 3ms/step - loss: 2.3001 - accuracy: 0.1125 - val_loss: 2.3045 - val_accuracy: 0.1008\n",
      "Epoch 19/20\n",
      "216/216 [==============================] - 1s 3ms/step - loss: 2.2996 - accuracy: 0.1109 - val_loss: 2.3046 - val_accuracy: 0.1015\n",
      "Epoch 20/20\n",
      "216/216 [==============================] - 1s 3ms/step - loss: 2.2996 - accuracy: 0.1131 - val_loss: 2.3046 - val_accuracy: 0.1002\n"
     ]
    }
   ],
   "source": [
    "training_model_100 = model_100.fit(x_train, y_train_100, validation_split=0.1, epochs=20, batch_size=250, verbose=1, shuffle=1)"
   ]
  },
  {
   "cell_type": "code",
   "execution_count": 36,
   "id": "d9d4e127",
   "metadata": {},
   "outputs": [
    {
     "data": {
      "text/plain": [
       "Text(0.5, 0, 'epoch')"
      ]
     },
     "execution_count": 36,
     "metadata": {},
     "output_type": "execute_result"
    },
    {
     "data": {
      "image/png": "[encoded data removed]",
      "text/plain": [
       "<Figure size 432x288 with 1 Axes>"
      ]
     },
     "metadata": {
      "needs_background": "light"
     },
     "output_type": "display_data"
    }
   ],
   "source": [
    "plt.plot(training_model_100.history['loss'])\n",
    "plt.plot(training_model_100.history['val_loss'])\n",
    "plt.legend(['train_loss','test_loss'])\n",
    "plt.title('train,test loss')\n",
    "plt.xlabel('epoch')"
   ]
  },
  {
   "cell_type": "code",
   "execution_count": 37,
   "id": "734fe272",
   "metadata": {},
   "outputs": [
    {
     "data": {
      "text/plain": [
       "Text(0.5, 0, 'epoch')"
      ]
     },
     "execution_count": 37,
     "metadata": {},
     "output_type": "execute_result"
    },
    {
     "data": {
      "image/png": "[encoded data removed]",
      "text/plain": [
       "<Figure size 432x288 with 1 Axes>"
      ]
     },
     "metadata": {
      "needs_background": "light"
     },
     "output_type": "display_data"
    }
   ],
   "source": [
    "plt.plot(training_model_100.history['accuracy'])\n",
    "plt.plot(training_model_100.history['val_accuracy'])\n",
    "plt.legend(['train_accu','test_accu'])\n",
    "plt.title('train,test accuracry')\n",
    "plt.xlabel('epoch')"
   ]
  }
 ],
 "metadata": {
  "kernelspec": {
   "display_name": "Python 3",
   "language": "python",
   "name": "python3"
  },
  "language_info": {
   "codemirror_mode": {
    "name": "ipython",
    "version": 3
   },
   "file_extension": ".py",
   "mimetype": "text/x-python",
   "name": "python",
   "nbconvert_exporter": "python",
   "pygments_lexer": "ipython3",
   "version": "3.8.10"
  }
 },
 "nbformat": 4,
 "nbformat_minor": 5
}
